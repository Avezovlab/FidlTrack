{
  "nbformat": 4,
  "nbformat_minor": 0,
  "metadata": {
    "colab": {
      "provenance": []
    },
    "kernelspec": {
      "name": "python3",
      "display_name": "Python 3"
    },
    "language_info": {
      "name": "python"
    }
  },
  "cells": [
    {
      "cell_type": "markdown",
      "source": [
        "**FidlTrack Ambiguity** allows to detect, quantify and remove ambiguous displacements from SPT trajectory data.\n",
        "\n",
        "Note: this script can only recompute ambiguity based on Euclidean distance. To get the ambiguity based on graph distance, use the structure-aware tracking extension from Trackmate with the EdgeAmbiguityAnalyzer.\n",
        "\n",
        "The pre-filled parameters correspond to the files obtained by tracking with the provided FidlTrack scripts."
      ],
      "metadata": {
        "id": "wW8sEqKe-8-s"
      }
    },
    {
      "cell_type": "markdown",
      "source": [
        "**Setup**"
      ],
      "metadata": {
        "id": "YP5ynQMFMWGC"
      }
    },
    {
      "cell_type": "code",
      "source": [
        "#@markdown Launch this cell to initialise the notebook (you only need to run this once)\n",
        "import os\n",
        "from google.colab import output\n",
        "\n",
        "import numpy as np\n",
        "from matplotlib import pyplot as plt\n",
        "from matplotlib.patches import Rectangle\n",
        "import matplotlib as mpl\n",
        "\n",
        "is_dark = output.eval_js('document.documentElement.matches(\"[theme=dark]\")')\n",
        "print(is_dark)\n",
        "\n",
        "base_path = os.getcwd()"
      ],
      "metadata": {
        "id": "xXjGdBOR-9gE",
        "cellView": "form"
      },
      "execution_count": null,
      "outputs": []
    },
    {
      "cell_type": "markdown",
      "source": [
        "**Link google drive**"
      ],
      "metadata": {
        "id": "2z_9w08UOo5N"
      }
    },
    {
      "cell_type": "code",
      "source": [
        "#@markdown Give access to your Google Drive (you only need to run this once)\n",
        "\n",
        "from google.colab import drive\n",
        "drive.mount(base_path + '/gdrive')"
      ],
      "metadata": {
        "id": "PmeKDkj7Ool-",
        "cellView": "form"
      },
      "execution_count": null,
      "outputs": []
    },
    {
      "cell_type": "markdown",
      "source": [
        "**Compute Ambiguity**\n",
        "\n",
        "The files need to be in your google drive. To find the correct path to your files, go to the Files menu on the left of the notebook (folder icon), navigate to your file, right-click on it and choose \"Copy path\", and paste the result into the textbox below."
      ],
      "metadata": {
        "id": "zo_IkTS5Mhi7"
      }
    },
    {
      "cell_type": "code",
      "source": [
        "def pos_to_gpos(p, minp, dx):\n",
        "  return np.floor((p - minp) / dx).astype(\"int\")\n",
        "\n",
        "def gpos_to_pos(idx, minp, dx):\n",
        "  return minp + idx * dx\n",
        "\n",
        "#INPUTS\n",
        "#@markdown Outputs\n",
        "show_ambiguous_disps = True # @param {type:\"boolean\"}\n",
        "show_ambiguities_time = False # @param {type:\"boolean\"}\n",
        "show_ambig_map = False # @param {type:\"boolean\"}\n",
        "ambig_map_dx = 0.5#@param {type:\"number\"}\n",
        "\n",
        "#@markdown Load Trajectories\n",
        "traj_path = \"\"#@param {type:\"string\"}\n",
        "link_dist = 1.0#@param {type:\"raw\"}\n",
        "#@markdown Trajectory parsing\n",
        "traj_header = 1#@param {type:\"integer\"}\n",
        "separator_trajs = \",\"#@param {type:\"string\"}\n",
        "traj_id_col = 0#@param {type:\"integer\"}\n",
        "traj_frame_col = 5#@param {type:\"integer\"}\n",
        "traj_xpos_col = 2#@param {type:\"integer\"}\n",
        "traj_ypos_col = 3#@param {type:\"integer\"}\n",
        "\n",
        "#@markdown Are ambiguities already computed in the trajectory file or do we need to recompute them from the spots?\n",
        "getAmbiguityFrom = 'trajectories' # @param [\"trajectories\", \"spots\"]\n",
        "#@markdown Column containing ambiguity information in trajectory file - fill only if using ambiguity from trajectories (starts at 0)\n",
        "ambig_col = 6#@param {type:\"integer\"}\n",
        "#@markdown Load spots file to compute ambiguity - fill only if using ambiguity from spots\n",
        "spot_path = \"\"#@param {type:\"string\"}\n",
        "spot_header = 1#@param {type:\"integer\"}\n",
        "separator_spot = \",\"#@param {type:\"string\"}\n",
        "spt_frame_col = 3#@param {type:\"integer\"}\n",
        "spt_xpos_col = 1#@param {type:\"integer\"}\n",
        "spt_ypos_col = 2#@param {type:\"integer\"\n",
        "\n",
        "#PARAMETERS CONVERTION\n",
        "if link_dist is not None:\n",
        "  link_dist = float(link_dist)\n",
        "\n",
        "ok = True\n",
        "if not os.path.exists(traj_path):\n",
        "  print(\"File not found:\" + traj_path)\n",
        "  ok = False\n",
        "\n",
        "if ok:\n",
        "  trajs = []\n",
        "  with open(traj_path, 'r') as f:\n",
        "    i = 0\n",
        "    for line in f:\n",
        "      i+= 1\n",
        "      if i <= traj_header:\n",
        "        continue\n",
        "      l = line.rstrip(\"\\n\").split(separator_trajs)\n",
        "      tmp = [int(l[traj_id_col]), int(float(l[traj_frame_col])), float(l[traj_xpos_col]), float(l[traj_ypos_col])]\n",
        "      if getAmbiguityFrom == \"trajectories\":\n",
        "        tmp.append(int(float(l[ambig_col])))\n",
        "      trajs.append(tmp)\n",
        "\n",
        "  if getAmbiguityFrom == \"trajectories\":\n",
        "    tab = np.array(trajs)\n",
        "\n",
        "  if getAmbiguityFrom == \"spots\":\n",
        "    tab = np.ones((len(trajs), 5)) * -1\n",
        "    tab[:,0:4] = np.array(trajs)\n",
        "\n",
        "    spts = []\n",
        "    with open(spot_path, 'r') as f:\n",
        "      i = 0\n",
        "      for line in f:\n",
        "        i += 1\n",
        "        if i <= spot_header:\n",
        "          continue\n",
        "        l = line.rstrip(\"\\n\").split(separator_spot)\n",
        "        spts.append([int(float(l[spt_frame_col])), float(l[spt_xpos_col]), float(l[spt_ypos_col])])\n",
        "    spts = np.array(spts)\n",
        "\n",
        "    for i in range(tab.shape[0]-1):\n",
        "      if tab[i,0] == tab[i+1,0]:\n",
        "        succs = spts[spts[:,0] == tab[i+1,1],:]\n",
        "\n",
        "        cnt = np.sum(np.sum((succs[:,1:3] - tab[i,2:4])**2, axis=1) <= link_dist**2)\n",
        "        assert(cnt > 0)\n",
        "        tab[i,4] = cnt - 1\n",
        "\n",
        "  nambigs = np.sum(tab[:,4] > 0)\n",
        "  ndisps = np.sum([np.sum(tab[:,0] == i) - 1 for i in set(tab[:,0])])\n",
        "  print(\"Ambiguity Score = {:.1f} %\".format((nambigs / ndisps) * 100))\n",
        "\n",
        "  if show_ambiguous_disps:\n",
        "    plt.figure(figsize=(7,7))\n",
        "    for i in np.where(tab[:,4] == 0)[0]: #non-ambiguous disps\n",
        "      plt.plot(tab[i:i+2, 2], tab[i:i+2, 3], 'k')\n",
        "    for i in np.where(tab[:,4] > 0)[0]: #ambiguous disps\n",
        "      plt.plot(tab[i:i+2, 2], tab[i:i+2, 3], 'r')\n",
        "    plt.xlabel(\"x-postion\")\n",
        "    plt.ylabel(\"y-postion\")\n",
        "\n",
        "  if show_ambiguities_time:\n",
        "    ambig_time = np.zeros((int(np.max(tab[:,1]))+1, 1))\n",
        "    for i in np.where(tab[:,4] > 0)[0]:\n",
        "      ambig_time[int(tab[i,1])] += 1\n",
        "\n",
        "    plt.figure(figsize=(7,7))\n",
        "    plt.step(range(int(np.max(tab[:,1]))+1), ambig_time)\n",
        "    plt.xlabel(\"Frame\")\n",
        "    plt.ylabel(\"Number of ambiguous displacements\")\n",
        "\n",
        "  if show_ambig_map:\n",
        "    minp = np.array([0, 0])\n",
        "    maxp = np.max(tab[:, 2:4], axis=0)\n",
        "\n",
        "    amap = {}\n",
        "    for i in np.where(tab[:,4] > 0)[0]:\n",
        "      idx = pos_to_gpos(tab[i, 2:4], minp, ambig_map_dx)\n",
        "      amap.setdefault(idx[0], {})\n",
        "      amap[idx[0]].setdefault(idx[1], 0)\n",
        "      amap[idx[0]][idx[1]] += 1.0\n",
        "\n",
        "    cmap = mpl.colormaps['viridis']\n",
        "    norm = mpl.colors.Normalize(vmin=0,\n",
        "                                vmax=max(max([v for v in amap[k].values()]) for k in amap.keys()))\n",
        "\n",
        "    fig, ax = plt.subplots(1)\n",
        "    fig.figsize = (7,7)\n",
        "    for i1 in amap.keys():\n",
        "      for i2 in amap[i1].keys():\n",
        "        idx = np.array([i1, i2])\n",
        "        pos = gpos_to_pos(idx, minp, ambig_map_dx)\n",
        "        ax.add_patch(Rectangle(pos, ambig_map_dx, ambig_map_dx,\n",
        "                              facecolor=cmap(norm(amap[i1][i2]))))\n",
        "    plt.axis([minp[0], maxp[0], minp[1], maxp[1]])\n",
        "    plt.colorbar(mpl.cm.ScalarMappable(cmap=cmap, norm=norm),\n",
        "                label=\"Number of ambiguous displacements\", ax=ax)\n",
        "    plt.xlabel(\"x-postion\")\n",
        "    plt.ylabel(\"y-postion\")"
      ],
      "metadata": {
        "id": "1X_eIGmzMgBj",
        "cellView": "form"
      },
      "execution_count": null,
      "outputs": []
    },
    {
      "cell_type": "markdown",
      "source": [
        "**Remove Ambiguous Displacements**\n",
        "\n",
        "Split trajectories around ambiguous displacements generating two sub-trajectories (containing all displacements before / after the ambiguous displacement).\n",
        "\n",
        "This cell depend on the ambiguity detection done in the previous cell.\n",
        "\n",
        "This cell generates a file named traj_path + \"_noa.csv\", where traj_path is the value from the previous cell, containing ambiguity-free trajectories."
      ],
      "metadata": {
        "id": "m2bbFdEo4Icp"
      }
    },
    {
      "cell_type": "code",
      "source": [
        "show_trajs_rm_ambig = False # @param {type:\"boolean\"}\n",
        "\n",
        "#Split trajs around ambiguous displacements and save the result\n",
        "tab_noa = []\n",
        "with open(traj_path + \"_noa.csv\", \"w\") as f:\n",
        "  M = 1\n",
        "  for i in range(tab.shape[0]):\n",
        "    if i > 0 and tab[i-1,0] != tab[i,0] or tab[i,4] > 0:\n",
        "      M += 1\n",
        "    tab_noa.append([M, tab[i,1], tab[i,2], tab[i,3], tab[i,4]])\n",
        "    f.write(separator_trajs.join([str(e) for e in tab_noa[-1]]) + \"\\n\")\n",
        "tab_noa = np.array(tab_noa)\n",
        "\n",
        "print(\"Num. trajs.: {} raw -> {} without ambigs\".format(\n",
        "    len(set(tab[:,0])), len(set(tab_noa[:,0]))))\n",
        "print(\"AVG±SD traj. len (num spots): {:.1f} ± {:.1f} raw -> {:.1f} ± {:.1f} without ambigs\".format(\n",
        "    np.mean([np.sum(tab[:,0]==i) for i in set(tab[:,0])]),\n",
        "    np.std([np.sum(tab[:,0]==i) for i in set(tab[:,0])]),\n",
        "    np.mean([np.sum(tab_noa[:,0]==i) for i in set(tab_noa[:,0])]),\n",
        "    np.std([np.sum(tab_noa[:,0]==i) for i in set(tab_noa[:,0])])))\n",
        "\n",
        "if show_trajs_rm_ambig:\n",
        "  plt.figure(figsize=(7,7))\n",
        "  plt.title(\"Trajectories after removal of ambiguous displacements\")\n",
        "  for i in set(tab_noa[:,0]):\n",
        "    plt.plot(tab_noa[tab_noa[:,0]==i, 2], tab_noa[tab_noa[:,0]==i, 3],\n",
        "              color=np.random.rand(3))\n",
        "  plt.xlabel(\"x-postion\")\n",
        "  plt.ylabel(\"y-postion\")"
      ],
      "metadata": {
        "cellView": "form",
        "id": "7tDZAN0u4HN7"
      },
      "execution_count": null,
      "outputs": []
    }
  ]
}